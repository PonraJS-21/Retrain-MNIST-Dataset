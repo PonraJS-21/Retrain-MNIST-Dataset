{
 "cells": [
  {
   "cell_type": "code",
   "execution_count": 9,
   "metadata": {},
   "outputs": [],
   "source": [
    "from keras.layers import Dense\n",
    "from keras.models import Sequential\n",
    "from keras.losses import MSE\n",
    "from keras.models import load_model"
   ]
  },
  {
   "cell_type": "code",
   "execution_count": 10,
   "metadata": {},
   "outputs": [
    {
     "name": "stdout",
     "output_type": "stream",
     "text": [
      "[[3.4499223]]\n",
      "[[5.573167]]\n",
      "[[14.041026]\n",
      " [21.997843]\n",
      " [29.954657]]\n"
     ]
    }
   ],
   "source": [
    "model = Sequential()\n",
    "\n",
    "model.add(Dense(50, activation='relu', input_shape=(1,)))\n",
    "model.add(Dense(1))\n",
    "model.compile(\n",
    "    loss=MSE,\n",
    "    optimizer='adam',\n",
    "    metrics=['mae']\n",
    ")\n",
    "xs = [1, 1, 1, 1, 2, 2, 2, 2]\n",
    "ys = [3, 3, 3, 3, 6, 6, 6, 6]\n",
    "\n",
    "model.fit(xs, ys, epochs=300, verbose=0)\n",
    "model.save('test.h5')\n",
    "\n",
    "testXs = [1]\n",
    "result1 = model.predict(testXs)\n",
    "\n",
    "testXs = [2]\n",
    "result2= model.predict(testXs)\n",
    "\n",
    "del model\n",
    "\n",
    "model = load_model('test.h5')\n",
    "\n",
    "xs1 = [3, 3, 3, 3]\n",
    "ys1 = [30, 30, 30, 30]\n",
    "\n",
    "model.fit(xs1, ys1, epochs=300, verbose=0)\n",
    "\n",
    "testXs = [1, 2, 3]\n",
    "result3 = model.predict(testXs)\n",
    "print(result1)\n",
    "print(result2)\n",
    "print(result3)"
   ]
  },
  {
   "cell_type": "code",
   "execution_count": null,
   "metadata": {},
   "outputs": [],
   "source": []
  }
 ],
 "metadata": {
  "kernelspec": {
   "display_name": "Python 3",
   "language": "python",
   "name": "python3"
  },
  "language_info": {
   "codemirror_mode": {
    "name": "ipython",
    "version": 3
   },
   "file_extension": ".py",
   "mimetype": "text/x-python",
   "name": "python",
   "nbconvert_exporter": "python",
   "pygments_lexer": "ipython3",
   "version": "3.7.4"
  }
 },
 "nbformat": 4,
 "nbformat_minor": 4
}
