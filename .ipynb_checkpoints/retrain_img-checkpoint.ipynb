{
 "cells": [
  {
   "cell_type": "code",
   "execution_count": 1,
   "metadata": {},
   "outputs": [
    {
     "name": "stderr",
     "output_type": "stream",
     "text": [
      "Using TensorFlow backend.\n"
     ]
    }
   ],
   "source": [
    "import numpy as np\n",
    "import matplotlib.pyplot as plt\n",
    "%matplotlib inline\n",
    "\n",
    "# keras imports for the dataset and building our neural network\n",
    "from keras.datasets import mnist\n",
    "from keras.models import Sequential\n",
    "from keras.layers import Conv2D, Flatten, Dense, Dropout, MaxPooling2D\n",
    "from keras.utils import to_categorical\n",
    "from keras.models import load_model"
   ]
  },
  {
   "cell_type": "code",
   "execution_count": 2,
   "metadata": {},
   "outputs": [],
   "source": [
    "(X_train, y_train), (X_test, y_test) = mnist.load_data()"
   ]
  },
  {
   "cell_type": "code",
   "execution_count": 3,
   "metadata": {},
   "outputs": [],
   "source": [
    "def create_dataset(mnist_img_num, tot_img = 10):\n",
    "    x_arr = []\n",
    "    y_arr = []\n",
    "    for i in range(len(X_train)):\n",
    "        if(y_train[i] == mnist_img_num[0] or y_train[i] == mnist_img_num[1]):\n",
    "            x_arr.append(X_train[i])\n",
    "            y_arr.append(y_train[i])\n",
    "            tot_img-=1\n",
    "        if(tot_img == 0):\n",
    "            break\n",
    "    return np.asarray(x_arr), np.asarray(y_arr)"
   ]
  },
  {
   "cell_type": "markdown",
   "metadata": {},
   "source": [
    "## Initially Training a model with 1 and 2"
   ]
  },
  {
   "cell_type": "code",
   "execution_count": 4,
   "metadata": {},
   "outputs": [],
   "source": [
    "x, y = create_dataset([1 , 2], 100)"
   ]
  },
  {
   "cell_type": "code",
   "execution_count": 5,
   "metadata": {},
   "outputs": [],
   "source": [
    "y = to_categorical(y)"
   ]
  },
  {
   "cell_type": "code",
   "execution_count": 6,
   "metadata": {},
   "outputs": [
    {
     "data": {
      "image/png": "[encoded data removed]",
      "text/plain": [
       "<Figure size 432x288 with 1 Axes>"
      ]
     },
     "metadata": {
      "needs_background": "light"
     },
     "output_type": "display_data"
    }
   ],
   "source": [
    "for i in range(1):\n",
    "    plt.imshow(x[i])\n",
    "    plt.suptitle(y[i])\n",
    "    plt.show()"
   ]
  },
  {
   "cell_type": "code",
   "execution_count": 7,
   "metadata": {},
   "outputs": [],
   "source": [
    "model = Sequential()\n",
    "model.add(Conv2D(32, (3, 3), activation='relu', input_shape=(28, 28, 1)))\n",
    "model.add(MaxPooling2D((2, 2)))\n",
    "model.add(Conv2D(64, (3, 3), activation='relu'))\n",
    "model.add(MaxPooling2D((2, 2)))\n",
    "model.add(Conv2D(64, (3, 3), activation='relu'))\n",
    "model.add(Flatten())\n",
    "model.add(Dense(64, activation='relu'))\n",
    "model.add(Dense(3, activation='softmax'))"
   ]
  },
  {
   "cell_type": "code",
   "execution_count": 8,
   "metadata": {},
   "outputs": [],
   "source": [
    "model.compile(optimizer='rmsprop', loss='categorical_crossentropy', metrics=['accuracy'])"
   ]
  },
  {
   "cell_type": "code",
   "execution_count": 9,
   "metadata": {},
   "outputs": [],
   "source": [
    "x = x.reshape((len(y), 28, 28, 1))"
   ]
  },
  {
   "cell_type": "code",
   "execution_count": 10,
   "metadata": {},
   "outputs": [
    {
     "data": {
      "text/plain": [
       "(100, 28, 28, 1)"
      ]
     },
     "execution_count": 10,
     "metadata": {},
     "output_type": "execute_result"
    }
   ],
   "source": [
    "x.shape"
   ]
  },
  {
   "cell_type": "code",
   "execution_count": 11,
   "metadata": {},
   "outputs": [
    {
     "name": "stdout",
     "output_type": "stream",
     "text": [
      "Epoch 1/25\n",
      "100/100 [==============================] - 4s 35ms/step - loss: 32.8527 - accuracy: 0.4300\n",
      "Epoch 2/25\n",
      "100/100 [==============================] - 0s 550us/step - loss: 0.8753 - accuracy: 0.9200\n",
      "Epoch 3/25\n",
      "100/100 [==============================] - 0s 520us/step - loss: 0.1909 - accuracy: 0.9800\n",
      "Epoch 4/25\n",
      "100/100 [==============================] - 0s 556us/step - loss: 0.1260 - accuracy: 0.9700\n",
      "Epoch 5/25\n",
      "100/100 [==============================] - 0s 552us/step - loss: 0.5481 - accuracy: 0.9000\n",
      "Epoch 6/25\n",
      "100/100 [==============================] - 0s 573us/step - loss: 0.0067 - accuracy: 1.0000\n",
      "Epoch 7/25\n",
      "100/100 [==============================] - 0s 588us/step - loss: 1.0933e-04 - accuracy: 1.0000\n",
      "Epoch 8/25\n",
      "100/100 [==============================] - 0s 543us/step - loss: 9.9867e-05 - accuracy: 1.0000\n",
      "Epoch 9/25\n",
      "100/100 [==============================] - 0s 558us/step - loss: 8.6339e-05 - accuracy: 1.0000\n",
      "Epoch 10/25\n",
      "100/100 [==============================] - 0s 536us/step - loss: 7.7650e-05 - accuracy: 1.0000\n",
      "Epoch 11/25\n",
      "100/100 [==============================] - 0s 570us/step - loss: 7.0287e-05 - accuracy: 1.0000\n",
      "Epoch 12/25\n",
      "100/100 [==============================] - 0s 582us/step - loss: 6.3966e-05 - accuracy: 1.0000\n",
      "Epoch 13/25\n",
      "100/100 [==============================] - 0s 571us/step - loss: 5.8966e-05 - accuracy: 1.0000\n",
      "Epoch 14/25\n",
      "100/100 [==============================] - 0s 556us/step - loss: 5.2955e-05 - accuracy: 1.0000\n",
      "Epoch 15/25\n",
      "100/100 [==============================] - 0s 591us/step - loss: 4.8169e-05 - accuracy: 1.0000\n",
      "Epoch 16/25\n",
      "100/100 [==============================] - 0s 572us/step - loss: 4.3725e-05 - accuracy: 1.0000\n",
      "Epoch 17/25\n",
      "100/100 [==============================] - 0s 632us/step - loss: 3.9964e-05 - accuracy: 1.0000\n",
      "Epoch 18/25\n",
      "100/100 [==============================] - 0s 655us/step - loss: 3.5435e-05 - accuracy: 1.0000\n",
      "Epoch 19/25\n",
      "100/100 [==============================] - 0s 640us/step - loss: 3.2309e-05 - accuracy: 1.0000\n",
      "Epoch 20/25\n",
      "100/100 [==============================] - 0s 652us/step - loss: 2.8937e-05 - accuracy: 1.0000\n",
      "Epoch 21/25\n",
      "100/100 [==============================] - 0s 627us/step - loss: 2.4732e-05 - accuracy: 1.0000\n",
      "Epoch 22/25\n",
      "100/100 [==============================] - 0s 625us/step - loss: 2.1966e-05 - accuracy: 1.0000\n",
      "Epoch 23/25\n",
      "100/100 [==============================] - 0s 656us/step - loss: 1.8284e-05 - accuracy: 1.0000\n",
      "Epoch 24/25\n",
      "100/100 [==============================] - 0s 603us/step - loss: 1.6170e-05 - accuracy: 1.0000\n",
      "Epoch 25/25\n",
      "100/100 [==============================] - 0s 593us/step - loss: 1.4081e-05 - accuracy: 1.0000\n"
     ]
    }
   ],
   "source": [
    "history = model.fit(x,y, epochs=25)"
   ]
  },
  {
   "cell_type": "code",
   "execution_count": 12,
   "metadata": {},
   "outputs": [],
   "source": [
    "model.save('partially_trained.h5')"
   ]
  },
  {
   "cell_type": "markdown",
   "metadata": {},
   "source": [
    "## Prediction for 2"
   ]
  },
  {
   "cell_type": "code",
   "execution_count": 13,
   "metadata": {},
   "outputs": [
    {
     "name": "stdout",
     "output_type": "stream",
     "text": [
      "2\n",
      "2\n",
      "[0. 0. 1.]\n"
     ]
    }
   ],
   "source": [
    "test = np.expand_dims(x[5], axis=0)\n",
    "print(np.argmax(model.predict(test)[0]))\n",
    "print(np.argmax(y[5]))\n",
    "print(y[5])"
   ]
  },
  {
   "cell_type": "markdown",
   "metadata": {},
   "source": [
    "## Prediction for 1"
   ]
  },
  {
   "cell_type": "code",
   "execution_count": 14,
   "metadata": {},
   "outputs": [
    {
     "name": "stdout",
     "output_type": "stream",
     "text": [
      "1\n",
      "1\n",
      "[0. 1. 0.]\n"
     ]
    }
   ],
   "source": [
    "test = np.expand_dims(x[0], axis=0)\n",
    "print(np.argmax(model.predict(test)[0]))\n",
    "print(np.argmax(y[0]))\n",
    "print(y[0])"
   ]
  },
  {
   "cell_type": "markdown",
   "metadata": {},
   "source": [
    "## Deleting and loading new model"
   ]
  },
  {
   "cell_type": "code",
   "execution_count": 15,
   "metadata": {},
   "outputs": [],
   "source": [
    "del model\n",
    "loaded_model = load_model('partially_trained.h5')"
   ]
  },
  {
   "cell_type": "markdown",
   "metadata": {},
   "source": [
    "## Again Training a model with 0 and 2"
   ]
  },
  {
   "cell_type": "code",
   "execution_count": 33,
   "metadata": {},
   "outputs": [
    {
     "name": "stdout",
     "output_type": "stream",
     "text": [
      "(100, 28, 28, 1)\n"
     ]
    }
   ],
   "source": [
    "x, y = create_dataset([0 , 2], 100)\n",
    "y = to_categorical(y)\n",
    "x = x.reshape((len(y), 28, 28, 1))\n",
    "print(x.shape)"
   ]
  },
  {
   "cell_type": "code",
   "execution_count": 34,
   "metadata": {},
   "outputs": [
    {
     "name": "stdout",
     "output_type": "stream",
     "text": [
      "Epoch 1/25\n",
      "100/100 [==============================] - 0s 621us/step - loss: 2.1458e-08 - accuracy: 1.0000\n",
      "Epoch 2/25\n",
      "100/100 [==============================] - 0s 654us/step - loss: 1.5497e-08 - accuracy: 1.0000\n",
      "Epoch 3/25\n",
      "100/100 [==============================] - 0s 641us/step - loss: 1.3113e-08 - accuracy: 1.0000\n",
      "Epoch 4/25\n",
      "100/100 [==============================] - 0s 665us/step - loss: 1.1921e-08 - accuracy: 1.0000\n",
      "Epoch 5/25\n",
      "100/100 [==============================] - 0s 636us/step - loss: 8.3446e-09 - accuracy: 1.0000\n",
      "Epoch 6/25\n",
      "100/100 [==============================] - 0s 675us/step - loss: 4.7684e-09 - accuracy: 1.0000\n",
      "Epoch 7/25\n",
      "100/100 [==============================] - 0s 658us/step - loss: 4.7684e-09 - accuracy: 1.0000\n",
      "Epoch 8/25\n",
      "100/100 [==============================] - 0s 652us/step - loss: 3.5763e-09 - accuracy: 1.0000\n",
      "Epoch 9/25\n",
      "100/100 [==============================] - 0s 668us/step - loss: 3.5763e-09 - accuracy: 1.0000\n",
      "Epoch 10/25\n",
      "100/100 [==============================] - 0s 669us/step - loss: 2.3842e-09 - accuracy: 1.0000\n",
      "Epoch 11/25\n",
      "100/100 [==============================] - 0s 635us/step - loss: 0.0000e+00 - accuracy: 1.0000\n",
      "Epoch 12/25\n",
      "100/100 [==============================] - 0s 665us/step - loss: 1.1921e-09 - accuracy: 1.0000\n",
      "Epoch 13/25\n",
      "100/100 [==============================] - 0s 704us/step - loss: 0.0000e+00 - accuracy: 1.0000\n",
      "Epoch 14/25\n",
      "100/100 [==============================] - 0s 683us/step - loss: 0.0000e+00 - accuracy: 1.0000\n",
      "Epoch 15/25\n",
      "100/100 [==============================] - 0s 662us/step - loss: 1.1921e-09 - accuracy: 1.0000\n",
      "Epoch 16/25\n",
      "100/100 [==============================] - 0s 618us/step - loss: 0.0000e+00 - accuracy: 1.0000\n",
      "Epoch 17/25\n",
      "100/100 [==============================] - 0s 644us/step - loss: 0.0000e+00 - accuracy: 1.0000\n",
      "Epoch 18/25\n",
      "100/100 [==============================] - 0s 644us/step - loss: 0.0000e+00 - accuracy: 1.0000\n",
      "Epoch 19/25\n",
      "100/100 [==============================] - 0s 655us/step - loss: 0.0000e+00 - accuracy: 1.0000\n",
      "Epoch 20/25\n",
      "100/100 [==============================] - 0s 610us/step - loss: 0.0000e+00 - accuracy: 1.0000\n",
      "Epoch 21/25\n",
      "100/100 [==============================] - 0s 652us/step - loss: 0.0000e+00 - accuracy: 1.0000\n",
      "Epoch 22/25\n",
      "100/100 [==============================] - 0s 619us/step - loss: 0.0000e+00 - accuracy: 1.0000\n",
      "Epoch 23/25\n",
      "100/100 [==============================] - 0s 608us/step - loss: 0.0000e+00 - accuracy: 1.0000\n",
      "Epoch 24/25\n",
      "100/100 [==============================] - 0s 608us/step - loss: 0.0000e+00 - accuracy: 1.0000\n",
      "Epoch 25/25\n",
      "100/100 [==============================] - 0s 629us/step - loss: 0.0000e+00 - accuracy: 1.0000\n"
     ]
    },
    {
     "data": {
      "text/plain": [
       "<keras.callbacks.callbacks.History at 0x1cca23946c8>"
      ]
     },
     "execution_count": 34,
     "metadata": {},
     "output_type": "execute_result"
    }
   ],
   "source": [
    "loaded_model.fit(x,y, epochs=25)"
   ]
  },
  {
   "cell_type": "markdown",
   "metadata": {},
   "source": [
    "## Prediction for 0"
   ]
  },
  {
   "cell_type": "code",
   "execution_count": 41,
   "metadata": {},
   "outputs": [
    {
     "name": "stdout",
     "output_type": "stream",
     "text": [
      "[0 1 1 1 1]\n",
      "(5, 28, 28, 1)\n",
      "(1, 28, 28, 1)\n",
      "predicted:  0\n",
      "actual:  0\n"
     ]
    }
   ],
   "source": [
    "testx, testy = create_dataset([1 , 0], 5)\n",
    "print(testy)\n",
    "testx = testx.reshape((len(testy), 28, 28, 1))\n",
    "print(testx.shape)\n",
    "test = np.expand_dims(testx[0], axis=0)\n",
    "print(test.shape)\n",
    "print('predicted: ', np.argmax(loaded_model.predict(test)))\n",
    "print('actual: ',testy[0])"
   ]
  },
  {
   "cell_type": "code",
   "execution_count": 42,
   "metadata": {},
   "outputs": [
    {
     "data": {
      "image/png": "[encoded data removed]",
      "text/plain": [
       "<Figure size 432x288 with 1 Axes>"
      ]
     },
     "metadata": {
      "needs_background": "light"
     },
     "output_type": "display_data"
    }
   ],
   "source": [
    "plt.imshow(test[0].reshape((28,28)))\n",
    "# plt.suptitle(y[i])\n",
    "plt.show()"
   ]
  },
  {
   "cell_type": "markdown",
   "metadata": {},
   "source": [
    "## Prediction for 1"
   ]
  },
  {
   "cell_type": "code",
   "execution_count": 36,
   "metadata": {},
   "outputs": [
    {
     "name": "stdout",
     "output_type": "stream",
     "text": [
      "[1 2 1 1 1]\n",
      "(5, 28, 28, 1)\n",
      "(1, 28, 28, 1)\n",
      "predicted:  2\n",
      "actual:  1\n"
     ]
    }
   ],
   "source": [
    "testx, testy = create_dataset([1 , 2], 5)\n",
    "print(testy)\n",
    "testx = testx.reshape((len(testy), 28, 28, 1))\n",
    "print(testx.shape)\n",
    "test = np.expand_dims(testx[0], axis=0)\n",
    "print(test.shape)\n",
    "print('predicted: ', np.argmax(loaded_model.predict(test)))\n",
    "print('actual: ',testy[0])"
   ]
  },
  {
   "cell_type": "code",
   "execution_count": 40,
   "metadata": {},
   "outputs": [
    {
     "data": {
      "image/png": "[encoded data removed]",
      "text/plain": [
       "<Figure size 432x288 with 1 Axes>"
      ]
     },
     "metadata": {
      "needs_background": "light"
     },
     "output_type": "display_data"
    }
   ],
   "source": [
    "plt.imshow(test[0].reshape((28,28)))\n",
    "# plt.suptitle(y[i])\n",
    "plt.show()"
   ]
  },
  {
   "cell_type": "markdown",
   "metadata": {},
   "source": [
    "## Prediction for 2"
   ]
  },
  {
   "cell_type": "code",
   "execution_count": 43,
   "metadata": {},
   "outputs": [
    {
     "name": "stdout",
     "output_type": "stream",
     "text": [
      "[1 2 1 1 1]\n",
      "(5, 28, 28, 1)\n",
      "(1, 28, 28, 1)\n",
      "predicted:  2\n",
      "actual:  2\n"
     ]
    }
   ],
   "source": [
    "testx, testy = create_dataset([1 , 2], 5)\n",
    "print(testy)\n",
    "testx = testx.reshape((len(testy), 28, 28, 1))\n",
    "print(testx.shape)\n",
    "test = np.expand_dims(testx[1], axis=0)\n",
    "print(test.shape)\n",
    "print('predicted: ', np.argmax(loaded_model.predict(test)))\n",
    "print('actual: ',testy[1])"
   ]
  },
  {
   "cell_type": "code",
   "execution_count": 44,
   "metadata": {},
   "outputs": [
    {
     "data": {
      "image/png": "[encoded data removed]",
      "text/plain": [
       "<Figure size 432x288 with 1 Axes>"
      ]
     },
     "metadata": {
      "needs_background": "light"
     },
     "output_type": "display_data"
    }
   ],
   "source": [
    "plt.imshow(test[0].reshape((28,28)))\n",
    "# plt.suptitle(y[i])\n",
    "plt.show()"
   ]
  },
  {
   "cell_type": "code",
   "execution_count": null,
   "metadata": {},
   "outputs": [],
   "source": []
  }
 ],
 "metadata": {
  "kernelspec": {
   "display_name": "Python 3",
   "language": "python",
   "name": "python3"
  },
  "language_info": {
   "codemirror_mode": {
    "name": "ipython",
    "version": 3
   },
   "file_extension": ".py",
   "mimetype": "text/x-python",
   "name": "python",
   "nbconvert_exporter": "python",
   "pygments_lexer": "ipython3",
   "version": "3.7.4"
  }
 },
 "nbformat": 4,
 "nbformat_minor": 4
}
