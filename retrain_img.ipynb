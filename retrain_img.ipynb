{
 "cells": [
  {
   "cell_type": "code",
   "execution_count": 1,
   "metadata": {},
   "outputs": [
    {
     "name": "stderr",
     "output_type": "stream",
     "text": [
      "Using TensorFlow backend.\n"
     ]
    }
   ],
   "source": [
    "import numpy as np\n",
    "import matplotlib.pyplot as plt\n",
    "%matplotlib inline\n",
    "\n",
    "# keras imports for the dataset and building our neural network\n",
    "from keras.datasets import mnist\n",
    "from keras.models import Sequential\n",
    "from keras.layers import Conv2D, Flatten, Dense, Dropout, MaxPooling2D\n",
    "from keras.utils import to_categorical\n",
    "from keras.models import load_model"
   ]
  },
  {
   "cell_type": "code",
   "execution_count": 2,
   "metadata": {},
   "outputs": [],
   "source": [
    "(X_train, y_train), (X_test, y_test) = mnist.load_data()"
   ]
  },
  {
   "cell_type": "code",
   "execution_count": 3,
   "metadata": {},
   "outputs": [],
   "source": [
    "def create_dataset(mnist_img_num, tot_img = 10):\n",
    "    x_arr = []\n",
    "    y_arr = []\n",
    "    for i in range(len(X_train)):\n",
    "        if(y_train[i] == mnist_img_num[0] or y_train[i] == mnist_img_num[1]):\n",
    "            x_arr.append(X_train[i])\n",
    "            y_arr.append(y_train[i])\n",
    "            tot_img-=1\n",
    "        if(tot_img == 0):\n",
    "            break\n",
    "    return np.asarray(x_arr), np.asarray(y_arr)"
   ]
  },
  {
   "cell_type": "markdown",
   "metadata": {},
   "source": [
    "## Initially Training a model with 1 and 2 handwritten digits"
   ]
  },
  {
   "cell_type": "code",
   "execution_count": 4,
   "metadata": {},
   "outputs": [],
   "source": [
    "x, y = create_dataset([1 , 2], 100)"
   ]
  },
  {
   "cell_type": "code",
   "execution_count": 5,
   "metadata": {},
   "outputs": [
    {
     "data": {
      "text/plain": [
       "array([1, 2, 1, 1, 1, 2, 1, 1, 2, 2, 1, 1, 1, 1, 1, 2, 1, 1, 2, 1, 1, 1,\n",
       "       1, 2, 1, 1, 2, 2, 2, 1, 1, 1, 2, 1, 2, 2, 2, 1, 1, 2, 2, 1, 2, 2,\n",
       "       2, 2, 1, 1, 1, 1, 1, 2, 2, 1, 1, 2, 1, 1, 2, 2, 2, 2, 1, 1, 1, 2,\n",
       "       1, 2, 1, 1, 1, 2, 2, 2, 2, 1, 2, 1, 1, 1, 1, 2, 2, 1, 2, 2, 2, 1,\n",
       "       2, 2, 2, 1, 1, 1, 2, 1, 1, 2, 1, 2], dtype=uint8)"
      ]
     },
     "execution_count": 5,
     "metadata": {},
     "output_type": "execute_result"
    }
   ],
   "source": [
    "y"
   ]
  },
  {
   "cell_type": "code",
   "execution_count": 6,
   "metadata": {},
   "outputs": [],
   "source": [
    "y = to_categorical(y)"
   ]
  },
  {
   "cell_type": "code",
   "execution_count": 7,
   "metadata": {},
   "outputs": [
    {
     "data": {
      "image/png": "[encoded data removed]",
      "text/plain": [
       "<Figure size 432x288 with 1 Axes>"
      ]
     },
     "metadata": {
      "needs_background": "light"
     },
     "output_type": "display_data"
    }
   ],
   "source": [
    "for i in range(1):\n",
    "    plt.imshow(x[i])\n",
    "    plt.show()"
   ]
  },
  {
   "cell_type": "code",
   "execution_count": 8,
   "metadata": {},
   "outputs": [],
   "source": [
    "model = Sequential()\n",
    "model.add(Conv2D(32, (3, 3), activation='relu', input_shape=(28, 28, 1)))\n",
    "model.add(MaxPooling2D((2, 2)))\n",
    "model.add(Conv2D(64, (3, 3), activation='relu'))\n",
    "model.add(MaxPooling2D((2, 2)))\n",
    "model.add(Conv2D(64, (3, 3), activation='relu'))\n",
    "model.add(Flatten())\n",
    "model.add(Dense(64, activation='relu'))\n",
    "model.add(Dense(3, activation='softmax'))"
   ]
  },
  {
   "cell_type": "code",
   "execution_count": 9,
   "metadata": {},
   "outputs": [],
   "source": [
    "model.compile(optimizer='rmsprop', loss='categorical_crossentropy', metrics=['accuracy'])"
   ]
  },
  {
   "cell_type": "code",
   "execution_count": 10,
   "metadata": {},
   "outputs": [],
   "source": [
    "x = x.reshape((len(y), 28, 28, 1))"
   ]
  },
  {
   "cell_type": "code",
   "execution_count": 11,
   "metadata": {},
   "outputs": [
    {
     "data": {
      "text/plain": [
       "(100, 28, 28, 1)"
      ]
     },
     "execution_count": 11,
     "metadata": {},
     "output_type": "execute_result"
    }
   ],
   "source": [
    "x.shape"
   ]
  },
  {
   "cell_type": "code",
   "execution_count": 12,
   "metadata": {},
   "outputs": [
    {
     "name": "stdout",
     "output_type": "stream",
     "text": [
      "Epoch 1/25\n",
      "100/100 [==============================] - 2s 22ms/step - loss: 68.9476 - accuracy: 0.5400\n",
      "Epoch 2/25\n",
      "100/100 [==============================] - 0s 280us/step - loss: 3.4938 - accuracy: 0.8500\n",
      "Epoch 3/25\n",
      "100/100 [==============================] - 0s 280us/step - loss: 0.2852 - accuracy: 0.9600\n",
      "Epoch 4/25\n",
      "100/100 [==============================] - 0s 320us/step - loss: 0.1176 - accuracy: 0.9800\n",
      "Epoch 5/25\n",
      "100/100 [==============================] - 0s 320us/step - loss: 0.0402 - accuracy: 0.9800\n",
      "Epoch 6/25\n",
      "100/100 [==============================] - 0s 280us/step - loss: 0.9519 - accuracy: 0.8900\n",
      "Epoch 7/25\n",
      "100/100 [==============================] - 0s 280us/step - loss: 0.0303 - accuracy: 0.9800\n",
      "Epoch 8/25\n",
      "100/100 [==============================] - 0s 320us/step - loss: 0.0018 - accuracy: 1.0000\n",
      "Epoch 9/25\n",
      "100/100 [==============================] - 0s 320us/step - loss: 3.6861e-04 - accuracy: 1.0000\n",
      "Epoch 10/25\n",
      "100/100 [==============================] - 0s 280us/step - loss: 2.6669e-04 - accuracy: 1.0000\n",
      "Epoch 11/25\n",
      "100/100 [==============================] - 0s 320us/step - loss: 2.2001e-04 - accuracy: 1.0000\n",
      "Epoch 12/25\n",
      "100/100 [==============================] - 0s 310us/step - loss: 1.7218e-04 - accuracy: 1.0000\n",
      "Epoch 13/25\n",
      "100/100 [==============================] - 0s 320us/step - loss: 1.3902e-04 - accuracy: 1.0000\n",
      "Epoch 14/25\n",
      "100/100 [==============================] - 0s 400us/step - loss: 1.1708e-04 - accuracy: 1.0000\n",
      "Epoch 15/25\n",
      "100/100 [==============================] - 0s 280us/step - loss: 9.3605e-05 - accuracy: 1.0000\n",
      "Epoch 16/25\n",
      "100/100 [==============================] - 0s 320us/step - loss: 7.4558e-05 - accuracy: 1.0000\n",
      "Epoch 17/25\n",
      "100/100 [==============================] - 0s 320us/step - loss: 6.1133e-05 - accuracy: 1.0000\n",
      "Epoch 18/25\n",
      "100/100 [==============================] - 0s 320us/step - loss: 5.2786e-05 - accuracy: 1.0000\n",
      "Epoch 19/25\n",
      "100/100 [==============================] - 0s 280us/step - loss: 4.7166e-05 - accuracy: 1.0000\n",
      "Epoch 20/25\n",
      "100/100 [==============================] - 0s 291us/step - loss: 3.7766e-05 - accuracy: 1.0000\n",
      "Epoch 21/25\n",
      "100/100 [==============================] - 0s 320us/step - loss: 3.4348e-05 - accuracy: 1.0000\n",
      "Epoch 22/25\n",
      "100/100 [==============================] - 0s 320us/step - loss: 2.3709e-05 - accuracy: 1.0000\n",
      "Epoch 23/25\n",
      "100/100 [==============================] - 0s 320us/step - loss: 2.0766e-05 - accuracy: 1.0000\n",
      "Epoch 24/25\n",
      "100/100 [==============================] - 0s 280us/step - loss: 1.5833e-05 - accuracy: 1.0000\n",
      "Epoch 25/25\n",
      "100/100 [==============================] - 0s 280us/step - loss: 1.3687e-05 - accuracy: 1.0000\n"
     ]
    }
   ],
   "source": [
    "history = model.fit(x,y, epochs=25)"
   ]
  },
  {
   "cell_type": "code",
   "execution_count": 13,
   "metadata": {},
   "outputs": [],
   "source": [
    "model.save('partially_trained.h5')"
   ]
  },
  {
   "cell_type": "markdown",
   "metadata": {},
   "source": [
    "## Prediction for 2"
   ]
  },
  {
   "cell_type": "code",
   "execution_count": 14,
   "metadata": {},
   "outputs": [
    {
     "name": "stdout",
     "output_type": "stream",
     "text": [
      "Prediction:  2\n",
      "Actual:  2\n",
      "[0. 0. 1.]\n"
     ]
    }
   ],
   "source": [
    "test = np.expand_dims(x[5], axis=0)\n",
    "print('Prediction: ',np.argmax(model.predict(test)[0]))\n",
    "print('Actual: ', np.argmax(y[5]))\n",
    "print(y[5])"
   ]
  },
  {
   "cell_type": "markdown",
   "metadata": {},
   "source": [
    "## Prediction for 1"
   ]
  },
  {
   "cell_type": "code",
   "execution_count": 15,
   "metadata": {},
   "outputs": [
    {
     "name": "stdout",
     "output_type": "stream",
     "text": [
      "Prediction:  1\n",
      "Actual:  1\n",
      "[0. 1. 0.]\n"
     ]
    }
   ],
   "source": [
    "test = np.expand_dims(x[0], axis=0)\n",
    "print('Prediction: ',np.argmax(model.predict(test)[0]))\n",
    "print('Actual: ',np.argmax(y[0]))\n",
    "print(y[0])"
   ]
  },
  {
   "cell_type": "markdown",
   "metadata": {},
   "source": [
    "## Deleting old model and loading new model"
   ]
  },
  {
   "cell_type": "code",
   "execution_count": 16,
   "metadata": {},
   "outputs": [],
   "source": [
    "del model\n",
    "loaded_model = load_model('partially_trained.h5')"
   ]
  },
  {
   "cell_type": "markdown",
   "metadata": {},
   "source": [
    "# Re-Training with with 0 and 2 digits"
   ]
  },
  {
   "cell_type": "code",
   "execution_count": 17,
   "metadata": {},
   "outputs": [
    {
     "name": "stdout",
     "output_type": "stream",
     "text": [
      "(100, 28, 28, 1)\n"
     ]
    }
   ],
   "source": [
    "x, y = create_dataset([0 , 2], 100)\n",
    "y = to_categorical(y)\n",
    "x = x.reshape((len(y), 28, 28, 1))\n",
    "print(x.shape)"
   ]
  },
  {
   "cell_type": "code",
   "execution_count": 18,
   "metadata": {},
   "outputs": [
    {
     "name": "stdout",
     "output_type": "stream",
     "text": [
      "Epoch 1/25\n",
      "100/100 [==============================] - 0s 2ms/step - loss: 9.8660 - accuracy: 0.5200\n",
      "Epoch 2/25\n",
      "100/100 [==============================] - 0s 280us/step - loss: 0.1182 - accuracy: 0.9800\n",
      "Epoch 3/25\n",
      "100/100 [==============================] - 0s 291us/step - loss: 0.0075 - accuracy: 1.0000\n",
      "Epoch 4/25\n",
      "100/100 [==============================] - 0s 280us/step - loss: 0.0041 - accuracy: 1.0000\n",
      "Epoch 5/25\n",
      "100/100 [==============================] - 0s 280us/step - loss: 0.0011 - accuracy: 1.0000\n",
      "Epoch 6/25\n",
      "100/100 [==============================] - 0s 320us/step - loss: 6.8776e-04 - accuracy: 1.0000\n",
      "Epoch 7/25\n",
      "100/100 [==============================] - 0s 320us/step - loss: 5.5207e-04 - accuracy: 1.0000\n",
      "Epoch 8/25\n",
      "100/100 [==============================] - 0s 320us/step - loss: 4.1387e-04 - accuracy: 1.0000\n",
      "Epoch 9/25\n",
      "100/100 [==============================] - 0s 319us/step - loss: 3.3588e-04 - accuracy: 1.0000\n",
      "Epoch 10/25\n",
      "100/100 [==============================] - 0s 280us/step - loss: 2.3505e-04 - accuracy: 1.0000\n",
      "Epoch 11/25\n",
      "100/100 [==============================] - 0s 320us/step - loss: 1.9071e-04 - accuracy: 1.0000\n",
      "Epoch 12/25\n",
      "100/100 [==============================] - 0s 320us/step - loss: 1.4911e-04 - accuracy: 1.0000\n",
      "Epoch 13/25\n",
      "100/100 [==============================] - 0s 320us/step - loss: 1.2796e-04 - accuracy: 1.0000\n",
      "Epoch 14/25\n",
      "100/100 [==============================] - 0s 280us/step - loss: 1.1000e-04 - accuracy: 1.0000\n",
      "Epoch 15/25\n",
      "100/100 [==============================] - 0s 320us/step - loss: 8.9025e-05 - accuracy: 1.0000\n",
      "Epoch 16/25\n",
      "100/100 [==============================] - 0s 280us/step - loss: 7.3508e-05 - accuracy: 1.0000\n",
      "Epoch 17/25\n",
      "100/100 [==============================] - 0s 280us/step - loss: 6.0464e-05 - accuracy: 1.0000\n",
      "Epoch 18/25\n",
      "100/100 [==============================] - 0s 280us/step - loss: 5.1401e-05 - accuracy: 1.0000\n",
      "Epoch 19/25\n",
      "100/100 [==============================] - 0s 320us/step - loss: 4.2889e-05 - accuracy: 1.0000\n",
      "Epoch 20/25\n",
      "100/100 [==============================] - 0s 280us/step - loss: 3.7711e-05 - accuracy: 1.0000\n",
      "Epoch 21/25\n",
      "100/100 [==============================] - 0s 320us/step - loss: 2.8702e-05 - accuracy: 1.0000\n",
      "Epoch 22/25\n",
      "100/100 [==============================] - 0s 320us/step - loss: 2.4105e-05 - accuracy: 1.0000\n",
      "Epoch 23/25\n",
      "100/100 [==============================] - 0s 280us/step - loss: 1.9827e-05 - accuracy: 1.0000\n",
      "Epoch 24/25\n",
      "100/100 [==============================] - 0s 320us/step - loss: 1.5822e-05 - accuracy: 1.0000\n",
      "Epoch 25/25\n",
      "100/100 [==============================] - 0s 320us/step - loss: 1.3525e-05 - accuracy: 1.0000\n"
     ]
    },
    {
     "data": {
      "text/plain": [
       "<keras.callbacks.callbacks.History at 0x23c1e26b3c8>"
      ]
     },
     "execution_count": 18,
     "metadata": {},
     "output_type": "execute_result"
    }
   ],
   "source": [
    "loaded_model.fit(x,y, epochs=25)"
   ]
  },
  {
   "cell_type": "markdown",
   "metadata": {},
   "source": [
    "## Prediction for 0"
   ]
  },
  {
   "cell_type": "code",
   "execution_count": 19,
   "metadata": {},
   "outputs": [
    {
     "name": "stdout",
     "output_type": "stream",
     "text": [
      "[0 1 1 1 1]\n",
      "(5, 28, 28, 1)\n",
      "(1, 28, 28, 1)\n",
      "predicted:  0\n",
      "actual:  0\n"
     ]
    }
   ],
   "source": [
    "testx, testy = create_dataset([1 , 0], 5)\n",
    "print(testy)\n",
    "testx = testx.reshape((len(testy), 28, 28, 1))\n",
    "print(testx.shape)\n",
    "test = np.expand_dims(testx[0], axis=0)\n",
    "print(test.shape)\n",
    "print('predicted: ', np.argmax(loaded_model.predict(test)))\n",
    "print('actual: ',testy[0])"
   ]
  },
  {
   "cell_type": "code",
   "execution_count": 20,
   "metadata": {},
   "outputs": [
    {
     "data": {
      "image/png": "[encoded data removed]",
      "text/plain": [
       "<Figure size 432x288 with 1 Axes>"
      ]
     },
     "metadata": {
      "needs_background": "light"
     },
     "output_type": "display_data"
    }
   ],
   "source": [
    "plt.imshow(test[0].reshape((28,28)))\n",
    "# plt.suptitle(y[i])\n",
    "plt.show()"
   ]
  },
  {
   "cell_type": "markdown",
   "metadata": {},
   "source": [
    "## Prediction for 1"
   ]
  },
  {
   "cell_type": "code",
   "execution_count": 21,
   "metadata": {},
   "outputs": [
    {
     "name": "stdout",
     "output_type": "stream",
     "text": [
      "[1 2 1 1 1]\n",
      "(5, 28, 28, 1)\n",
      "(1, 28, 28, 1)\n",
      "predicted:  2\n",
      "actual:  1\n"
     ]
    }
   ],
   "source": [
    "testx, testy = create_dataset([1 , 2], 5)\n",
    "print(testy)\n",
    "testx = testx.reshape((len(testy), 28, 28, 1))\n",
    "print(testx.shape)\n",
    "test = np.expand_dims(testx[0], axis=0)\n",
    "print(test.shape)\n",
    "print('predicted: ', np.argmax(loaded_model.predict(test)))\n",
    "print('actual: ',testy[0])"
   ]
  },
  {
   "cell_type": "code",
   "execution_count": 22,
   "metadata": {},
   "outputs": [
    {
     "data": {
      "image/png": "[encoded data removed]",
      "text/plain": [
       "<Figure size 432x288 with 1 Axes>"
      ]
     },
     "metadata": {
      "needs_background": "light"
     },
     "output_type": "display_data"
    }
   ],
   "source": [
    "plt.imshow(test[0].reshape((28,28)))\n",
    "# plt.suptitle(y[i])\n",
    "plt.show()"
   ]
  },
  {
   "cell_type": "markdown",
   "metadata": {},
   "source": [
    "## Prediction for 2"
   ]
  },
  {
   "cell_type": "code",
   "execution_count": 23,
   "metadata": {},
   "outputs": [
    {
     "name": "stdout",
     "output_type": "stream",
     "text": [
      "[1 2 1 1 1]\n",
      "(5, 28, 28, 1)\n",
      "(1, 28, 28, 1)\n",
      "predicted:  2\n",
      "actual:  2\n"
     ]
    }
   ],
   "source": [
    "testx, testy = create_dataset([1 , 2], 5)\n",
    "print(testy)\n",
    "testx = testx.reshape((len(testy), 28, 28, 1))\n",
    "print(testx.shape)\n",
    "test = np.expand_dims(testx[1], axis=0)\n",
    "print(test.shape)\n",
    "print('predicted: ', np.argmax(loaded_model.predict(test)))\n",
    "print('actual: ',testy[1])"
   ]
  },
  {
   "cell_type": "code",
   "execution_count": 24,
   "metadata": {},
   "outputs": [
    {
     "data": {
      "image/png": "[encoded data removed]",
      "text/plain": [
       "<Figure size 432x288 with 1 Axes>"
      ]
     },
     "metadata": {
      "needs_background": "light"
     },
     "output_type": "display_data"
    }
   ],
   "source": [
    "plt.imshow(test[0].reshape((28,28)))\n",
    "plt.show()"
   ]
  },
  {
   "cell_type": "code",
   "execution_count": null,
   "metadata": {},
   "outputs": [],
   "source": []
  }
 ],
 "metadata": {
  "kernelspec": {
   "display_name": "Python 3",
   "language": "python",
   "name": "python3"
  },
  "language_info": {
   "codemirror_mode": {
    "name": "ipython",
    "version": 3
   },
   "file_extension": ".py",
   "mimetype": "text/x-python",
   "name": "python",
   "nbconvert_exporter": "python",
   "pygments_lexer": "ipython3",
   "version": "3.7.4"
  }
 },
 "nbformat": 4,
 "nbformat_minor": 4
}
