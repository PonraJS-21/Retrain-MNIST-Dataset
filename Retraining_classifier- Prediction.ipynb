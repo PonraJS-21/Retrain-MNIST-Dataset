{
 "cells": [
  {
   "cell_type": "code",
   "execution_count": 1,
   "metadata": {},
   "outputs": [
    {
     "name": "stderr",
     "output_type": "stream",
     "text": [
      "Using TensorFlow backend.\n"
     ]
    }
   ],
   "source": [
    "import numpy as np\n",
    "import matplotlib.pyplot as plt\n",
    "%matplotlib inline\n",
    "\n",
    "# keras imports for the dataset and building our neural network\n",
    "from keras.datasets import mnist\n",
    "from keras.models import Sequential\n",
    "from keras.layers import Conv2D, Flatten, Dense, Dropout, MaxPooling2D\n",
    "from keras.utils import to_categorical\n",
    "from keras.models import load_model"
   ]
  },
  {
   "cell_type": "code",
   "execution_count": 2,
   "metadata": {},
   "outputs": [],
   "source": [
    "(X_train, y_train), (X_test, y_test) = mnist.load_data()"
   ]
  },
  {
   "cell_type": "code",
   "execution_count": 3,
   "metadata": {},
   "outputs": [],
   "source": [
    "def create_dataset(mnist_img_num, tot_img = 10):\n",
    "    x_arr = []\n",
    "    y_arr = []\n",
    "    for i in range(len(X_test)):\n",
    "        if(y_train[i] == mnist_img_num[0] or y_train[i] == mnist_img_num[1]):\n",
    "            x_arr.append(X_train[i])\n",
    "            y_arr.append(y_train[i])\n",
    "            tot_img-=1\n",
    "        if(tot_img == 0):\n",
    "            break\n",
    "    return np.asarray(x_arr), np.asarray(y_arr)"
   ]
  },
  {
   "cell_type": "markdown",
   "metadata": {},
   "source": [
    "# Loading Model\n",
    "\n",
    "### Note: Initially the model was trained on 1 and 2"
   ]
  },
  {
   "cell_type": "code",
   "execution_count": 4,
   "metadata": {},
   "outputs": [],
   "source": [
    "model_l = load_model('partially_trained.h5')"
   ]
  },
  {
   "cell_type": "markdown",
   "metadata": {},
   "source": [
    "# Re-Training with 0 and 2 digits"
   ]
  },
  {
   "cell_type": "code",
   "execution_count": 5,
   "metadata": {},
   "outputs": [
    {
     "name": "stdout",
     "output_type": "stream",
     "text": [
      "(500, 28, 28, 1)\n"
     ]
    }
   ],
   "source": [
    "x, y = create_dataset([0, 2], 500)\n",
    "y = to_categorical(y)\n",
    "x = x.reshape((len(y), 28, 28, 1))\n",
    "print(x.shape)"
   ]
  },
  {
   "cell_type": "code",
   "execution_count": 6,
   "metadata": {},
   "outputs": [
    {
     "data": {
      "text/plain": [
       "array([[1., 0., 0.],\n",
       "       [0., 0., 1.],\n",
       "       [0., 0., 1.],\n",
       "       [1., 0., 0.],\n",
       "       [0., 0., 1.]], dtype=float32)"
      ]
     },
     "execution_count": 6,
     "metadata": {},
     "output_type": "execute_result"
    }
   ],
   "source": [
    "y[:5]"
   ]
  },
  {
   "cell_type": "code",
   "execution_count": 7,
   "metadata": {},
   "outputs": [],
   "source": [
    "# model_l.compile(optimizer='rmsprop', loss='categorical_crossentropy', metrics=['accuracy'])"
   ]
  },
  {
   "cell_type": "code",
   "execution_count": 8,
   "metadata": {},
   "outputs": [],
   "source": [
    "# for _ in range(10):\n",
    "#     history_2 = model_l.train_on_batch(x,y)\n",
    "    \n",
    "history_2 = model_l.fit(x, y, epochs=50, verbose=0)"
   ]
  },
  {
   "cell_type": "code",
   "execution_count": 9,
   "metadata": {},
   "outputs": [
    {
     "data": {
      "text/plain": [
       "<keras.callbacks.callbacks.History at 0x20d86ca2c88>"
      ]
     },
     "execution_count": 9,
     "metadata": {},
     "output_type": "execute_result"
    }
   ],
   "source": [
    "history_2"
   ]
  },
  {
   "cell_type": "markdown",
   "metadata": {},
   "source": [
    "## Prediction for 0"
   ]
  },
  {
   "cell_type": "code",
   "execution_count": 11,
   "metadata": {},
   "outputs": [
    {
     "name": "stdout",
     "output_type": "stream",
     "text": [
      "Test Y:  [0 0 0 0 0]\n",
      "(5, 28, 28, 1)\n",
      "predicted:  0\n",
      "predicted:  0\n",
      "predicted:  0\n",
      "predicted:  0\n",
      "predicted:  0\n",
      "actual:  0\n"
     ]
    }
   ],
   "source": [
    "testx, testy = create_dataset([0 , 0], 5)\n",
    "print('Test Y: ', testy)\n",
    "testx = testx.reshape((len(testy), 28, 28, 1))\n",
    "print(testx.shape)\n",
    "# test = np.expand_dims(testx, axis=0)\n",
    "predicted = model_l.predict(testx)\n",
    "for i in predicted:\n",
    "    print('predicted: ', np.argmax(i))\n",
    "print('actual: ',testy[0])"
   ]
  },
  {
   "cell_type": "code",
   "execution_count": 12,
   "metadata": {},
   "outputs": [
    {
     "data": {
      "image/png": "[encoded data removed]",
      "text/plain": [
       "<Figure size 432x288 with 1 Axes>"
      ]
     },
     "metadata": {
      "needs_background": "light"
     },
     "output_type": "display_data"
    }
   ],
   "source": [
    "plt.imshow(testx[0].reshape((28,28)))\n",
    "# plt.suptitle(y[i])\n",
    "plt.show()"
   ]
  },
  {
   "cell_type": "markdown",
   "metadata": {},
   "source": [
    "## Prediction for 1"
   ]
  },
  {
   "cell_type": "code",
   "execution_count": 13,
   "metadata": {},
   "outputs": [
    {
     "name": "stdout",
     "output_type": "stream",
     "text": [
      "Test Y:  [1 1 1 1 1]\n",
      "(5, 28, 28, 1)\n",
      "predicted:  1\n",
      "predicted:  1\n",
      "predicted:  1\n",
      "predicted:  2\n",
      "predicted:  2\n",
      "actual:  1\n"
     ]
    }
   ],
   "source": [
    "testx, testy = create_dataset([1 , 1], 5)\n",
    "print('Test Y: ', testy)\n",
    "testx = testx.reshape((len(testy), 28, 28, 1))\n",
    "print(testx.shape)\n",
    "# test = np.expand_dims(testx, axis=0)\n",
    "predicted = model_l.predict(testx)\n",
    "for i in predicted:\n",
    "    print('predicted: ', np.argmax(i))\n",
    "print('actual: ',testy[0])"
   ]
  },
  {
   "cell_type": "code",
   "execution_count": 14,
   "metadata": {},
   "outputs": [
    {
     "data": {
      "image/png": "[encoded data removed]",
      "text/plain": [
       "<Figure size 432x288 with 1 Axes>"
      ]
     },
     "metadata": {
      "needs_background": "light"
     },
     "output_type": "display_data"
    }
   ],
   "source": [
    "plt.imshow(testx[0].reshape((28,28)))\n",
    "# plt.suptitle(y[i])\n",
    "plt.show()"
   ]
  },
  {
   "cell_type": "markdown",
   "metadata": {},
   "source": [
    "## Prediction for 2"
   ]
  },
  {
   "cell_type": "code",
   "execution_count": 15,
   "metadata": {},
   "outputs": [
    {
     "name": "stdout",
     "output_type": "stream",
     "text": [
      "Test Y:  [2 2 2 2 2]\n",
      "(5, 28, 28, 1)\n",
      "predicted:  2\n",
      "predicted:  2\n",
      "predicted:  2\n",
      "predicted:  2\n",
      "predicted:  2\n",
      "actual:  2\n"
     ]
    }
   ],
   "source": [
    "testx, testy = create_dataset([2 , 2], 5)\n",
    "print('Test Y: ', testy)\n",
    "testx = testx.reshape((len(testy), 28, 28, 1))\n",
    "print(testx.shape)\n",
    "# test = np.expand_dims(testx, axis=0)\n",
    "predicted = model_l.predict(testx)\n",
    "for i in predicted:\n",
    "    print('predicted: ', np.argmax(i))\n",
    "print('actual: ',testy[0])"
   ]
  },
  {
   "cell_type": "code",
   "execution_count": 16,
   "metadata": {},
   "outputs": [
    {
     "data": {
      "image/png": "[encoded data removed]",
      "text/plain": [
       "<Figure size 432x288 with 1 Axes>"
      ]
     },
     "metadata": {
      "needs_background": "light"
     },
     "output_type": "display_data"
    }
   ],
   "source": [
    "plt.imshow(testx[0].reshape((28,28)))\n",
    "plt.show()"
   ]
  },
  {
   "cell_type": "code",
   "execution_count": null,
   "metadata": {},
   "outputs": [],
   "source": []
  }
 ],
 "metadata": {
  "kernelspec": {
   "display_name": "Python 3",
   "language": "python",
   "name": "python3"
  },
  "language_info": {
   "codemirror_mode": {
    "name": "ipython",
    "version": 3
   },
   "file_extension": ".py",
   "mimetype": "text/x-python",
   "name": "python",
   "nbconvert_exporter": "python",
   "pygments_lexer": "ipython3",
   "version": "3.7.4"
  }
 },
 "nbformat": 4,
 "nbformat_minor": 4
}
