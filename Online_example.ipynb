{
 "cells": [
  {
   "cell_type": "code",
   "execution_count": 1,
   "metadata": {},
   "outputs": [
    {
     "name": "stderr",
     "output_type": "stream",
     "text": [
      "Using TensorFlow backend.\n"
     ]
    }
   ],
   "source": [
    "\"\"\"\n",
    "Model by: https://www.semicolonworld.com/question/57115/loading-a-trained-keras-model-and-continue-training\n",
    "\"\"\"\n",
    "# load (downloaded if needed) the MNIST dataset\n",
    "import numpy\n",
    "from keras.datasets import mnist\n",
    "from keras.models import Sequential\n",
    "from keras.layers import Dense\n",
    "from keras.utils import np_utils\n",
    "from keras.models import load_model\n",
    "numpy.random.seed(7)"
   ]
  },
  {
   "cell_type": "code",
   "execution_count": 2,
   "metadata": {},
   "outputs": [],
   "source": [
    "def create_dataset(mnist_img_num, tot_img = 10):\n",
    "    x_arr = []\n",
    "    y_arr = []\n",
    "    for i in range(len(X_train)):\n",
    "        if(y_train[i] == mnist_img_num[0] or y_train[i] == mnist_img_num[1]):\n",
    "            x_arr.append(X_train[i])\n",
    "            y_arr.append(y_train[i])\n",
    "            tot_img-=1\n",
    "        if(tot_img == 0):\n",
    "            break\n",
    "    return numpy.asarray(x_arr), numpy.asarray(y_arr)"
   ]
  },
  {
   "cell_type": "code",
   "execution_count": 3,
   "metadata": {
    "scrolled": true
   },
   "outputs": [
    {
     "name": "stderr",
     "output_type": "stream",
     "text": [
      "D:\\Intalled Softwares\\Anaconda\\lib\\site-packages\\ipykernel_launcher.py:3: UserWarning: Update your `Dense` call to the Keras 2 API: `Dense(784, input_dim=784, activation=\"relu\", kernel_initializer=\"normal\")`\n",
      "  This is separate from the ipykernel package so we can avoid doing imports until\n",
      "D:\\Intalled Softwares\\Anaconda\\lib\\site-packages\\ipykernel_launcher.py:4: UserWarning: Update your `Dense` call to the Keras 2 API: `Dense(3, activation=\"softmax\", kernel_initializer=\"normal\")`\n",
      "  after removing the cwd from sys.path.\n"
     ]
    },
    {
     "name": "stdout",
     "output_type": "stream",
     "text": [
      "Epoch 1/30\n",
      " - 1s - loss: 0.1911 - accuracy: 0.9380\n",
      "Epoch 2/30\n",
      " - 0s - loss: 0.0451 - accuracy: 0.9850\n",
      "Epoch 3/30\n",
      " - 0s - loss: 0.0258 - accuracy: 0.9923\n",
      "Epoch 4/30\n",
      " - 0s - loss: 0.0174 - accuracy: 0.9950\n",
      "Epoch 5/30\n",
      " - 0s - loss: 0.0131 - accuracy: 0.9980\n",
      "Epoch 6/30\n",
      " - 0s - loss: 0.0109 - accuracy: 0.9973\n",
      "Epoch 7/30\n",
      " - 0s - loss: 0.0078 - accuracy: 0.9987\n",
      "Epoch 8/30\n",
      " - 0s - loss: 0.0061 - accuracy: 0.9990\n",
      "Epoch 9/30\n",
      " - 0s - loss: 0.0052 - accuracy: 0.9997\n",
      "Epoch 10/30\n",
      " - 0s - loss: 0.0044 - accuracy: 0.9997\n",
      "Epoch 11/30\n",
      " - 0s - loss: 0.0038 - accuracy: 0.9993\n",
      "Epoch 12/30\n",
      " - 0s - loss: 0.0029 - accuracy: 0.9997\n",
      "Epoch 13/30\n",
      " - 0s - loss: 0.0023 - accuracy: 0.9997\n",
      "Epoch 14/30\n",
      " - 0s - loss: 0.0021 - accuracy: 0.9997\n",
      "Epoch 15/30\n",
      " - 0s - loss: 0.0018 - accuracy: 0.9997\n",
      "Epoch 16/30\n",
      " - 0s - loss: 0.0012 - accuracy: 1.0000\n",
      "Epoch 17/30\n",
      " - 0s - loss: 0.0013 - accuracy: 1.0000\n",
      "Epoch 18/30\n",
      " - 0s - loss: 0.0011 - accuracy: 1.0000\n",
      "Epoch 19/30\n",
      " - 0s - loss: 8.3666e-04 - accuracy: 1.0000\n",
      "Epoch 20/30\n",
      " - 0s - loss: 7.5846e-04 - accuracy: 1.0000\n",
      "Epoch 21/30\n",
      " - 0s - loss: 6.3078e-04 - accuracy: 1.0000\n",
      "Epoch 22/30\n",
      " - 0s - loss: 5.6283e-04 - accuracy: 1.0000\n",
      "Epoch 23/30\n",
      " - 0s - loss: 5.0475e-04 - accuracy: 1.0000\n",
      "Epoch 24/30\n",
      " - 0s - loss: 4.5510e-04 - accuracy: 1.0000\n",
      "Epoch 25/30\n",
      " - 0s - loss: 4.2408e-04 - accuracy: 1.0000\n",
      "Epoch 26/30\n",
      " - 0s - loss: 3.8422e-04 - accuracy: 1.0000\n",
      "Epoch 27/30\n",
      " - 0s - loss: 3.5589e-04 - accuracy: 1.0000\n",
      "Epoch 28/30\n",
      " - 0s - loss: 3.3129e-04 - accuracy: 1.0000\n",
      "Epoch 29/30\n",
      " - 0s - loss: 3.0546e-04 - accuracy: 1.0000\n",
      "Epoch 30/30\n",
      " - 0s - loss: 2.8267e-04 - accuracy: 1.0000\n",
      "Baseline Error: 0.00%\n",
      "Epoch 1/30\n",
      " - 0s - loss: 2.5504 - accuracy: 0.7067\n",
      "Epoch 2/30\n",
      " - 0s - loss: 0.1262 - accuracy: 0.9540\n",
      "Epoch 3/30\n",
      " - 0s - loss: 0.0486 - accuracy: 0.9830\n",
      "Epoch 4/30\n",
      " - 0s - loss: 0.0313 - accuracy: 0.9897\n",
      "Epoch 5/30\n",
      " - 0s - loss: 0.0206 - accuracy: 0.9933\n",
      "Epoch 6/30\n",
      " - 0s - loss: 0.0152 - accuracy: 0.9950\n",
      "Epoch 7/30\n",
      " - 0s - loss: 0.0111 - accuracy: 0.9967\n",
      "Epoch 8/30\n",
      " - 0s - loss: 0.0082 - accuracy: 0.9977\n",
      "Epoch 9/30\n",
      " - 0s - loss: 0.0069 - accuracy: 0.9987\n",
      "Epoch 10/30\n",
      " - 0s - loss: 0.0051 - accuracy: 0.9993\n",
      "Epoch 11/30\n",
      " - 0s - loss: 0.0041 - accuracy: 0.9993\n",
      "Epoch 12/30\n",
      " - 0s - loss: 0.0032 - accuracy: 1.0000\n",
      "Epoch 13/30\n",
      " - 0s - loss: 0.0028 - accuracy: 1.0000\n",
      "Epoch 14/30\n",
      " - 0s - loss: 0.0022 - accuracy: 1.0000\n",
      "Epoch 15/30\n",
      " - 0s - loss: 0.0020 - accuracy: 1.0000\n",
      "Epoch 16/30\n",
      " - 0s - loss: 0.0017 - accuracy: 1.0000\n",
      "Epoch 17/30\n",
      " - 0s - loss: 0.0015 - accuracy: 1.0000\n",
      "Epoch 18/30\n",
      " - 0s - loss: 0.0013 - accuracy: 1.0000\n",
      "Epoch 19/30\n",
      " - 0s - loss: 0.0012 - accuracy: 1.0000\n",
      "Epoch 20/30\n",
      " - 0s - loss: 0.0011 - accuracy: 1.0000\n",
      "Epoch 21/30\n",
      " - 0s - loss: 0.0011 - accuracy: 1.0000\n",
      "Epoch 22/30\n",
      " - 0s - loss: 9.2480e-04 - accuracy: 1.0000\n",
      "Epoch 23/30\n",
      " - 0s - loss: 8.0015e-04 - accuracy: 1.0000\n",
      "Epoch 24/30\n",
      " - 0s - loss: 7.3791e-04 - accuracy: 1.0000\n",
      "Epoch 25/30\n",
      " - 0s - loss: 6.7572e-04 - accuracy: 1.0000\n",
      "Epoch 26/30\n",
      " - 0s - loss: 6.2789e-04 - accuracy: 1.0000\n",
      "Epoch 27/30\n",
      " - 0s - loss: 5.8167e-04 - accuracy: 1.0000\n",
      "Epoch 28/30\n",
      " - 0s - loss: 5.5584e-04 - accuracy: 1.0000\n",
      "Epoch 29/30\n",
      " - 0s - loss: 5.1238e-04 - accuracy: 1.0000\n",
      "Epoch 30/30\n",
      " - 0s - loss: 4.7973e-04 - accuracy: 1.0000\n",
      "Baseline Error: 53.47%\n"
     ]
    }
   ],
   "source": [
    "\n",
    "def baseline_model():\n",
    "    model = Sequential()\n",
    "    model.add(Dense(num_pixels, input_dim=num_pixels, init='normal', activation='relu'))\n",
    "    model.add(Dense(num_classes, init='normal', activation='softmax'))\n",
    "    model.compile(loss='categorical_crossentropy', optimizer='adam', metrics=['accuracy'])\n",
    "    return model\n",
    "\n",
    "if __name__ == '__main__':\n",
    "    # load data\n",
    "    (X_train, y_train), (x_t, y_t) = mnist.load_data()\n",
    "    del x_t, y_t\n",
    "\n",
    "    # flatten 28*28 images to a 784 vector for each image\n",
    "    num_pixels = X_train.shape[1] * X_train.shape[2]\n",
    "    X_train = X_train.reshape(X_train.shape[0], num_pixels).astype('float32')\n",
    "    # normalize inputs from 0-255 to 0-1\n",
    "    X_train = X_train / 255\n",
    "    \n",
    "    num_classes = 3 #y_test.shape[1]\n",
    "\n",
    "    # build the model\n",
    "    model = baseline_model()\n",
    "\n",
    "    #Partly train model\n",
    "    dataset1_x, dataset1_y  = create_dataset([1 , 2], 3000)\n",
    "    # one hot encode outputs\n",
    "    dataset1_y = np_utils.to_categorical(dataset1_y)\n",
    "    model.fit(dataset1_x, dataset1_y, epochs=30, batch_size=200, verbose=2)\n",
    "\n",
    "    # Final evaluation of the model\n",
    "    scores = model.evaluate(dataset1_x, dataset1_y, verbose=0)\n",
    "    print(\"Baseline Error: %.2f%%\" % (100-scores[1]*100))\n",
    "\n",
    "    #Save partly trained model\n",
    "    model.save('partly_trained_model.h5')\n",
    "    del model\n",
    "\n",
    "    #Reload model\n",
    "    model = load_model('partly_trained_model.h5')\n",
    "\n",
    "    #Continue training\n",
    "    dataset2_x, dataset2_y  = create_dataset([0 , 2], 3000)\n",
    "    # one hot encode outputs\n",
    "    dataset2_y = np_utils.to_categorical(dataset2_y)\n",
    "    model.fit(dataset2_x, dataset2_y, epochs=30, batch_size=200, verbose=2)\n",
    "    scores = model.evaluate( dataset1_x, dataset1_y , verbose=0)\n",
    "    print(\"Baseline Error: %.2f%%\" % (100-scores[1]*100))"
   ]
  },
  {
   "cell_type": "code",
   "execution_count": 4,
   "metadata": {},
   "outputs": [
    {
     "name": "stdout",
     "output_type": "stream",
     "text": [
      "Model: \"sequential_1\"\n",
      "_________________________________________________________________\n",
      "Layer (type)                 Output Shape              Param #   \n",
      "=================================================================\n",
      "dense_1 (Dense)              (None, 784)               615440    \n",
      "_________________________________________________________________\n",
      "dense_2 (Dense)              (None, 3)                 2355      \n",
      "=================================================================\n",
      "Total params: 617,795\n",
      "Trainable params: 617,795\n",
      "Non-trainable params: 0\n",
      "_________________________________________________________________\n"
     ]
    }
   ],
   "source": [
    "model.summary()"
   ]
  },
  {
   "cell_type": "code",
   "execution_count": 5,
   "metadata": {},
   "outputs": [
    {
     "data": {
      "text/plain": [
       "(3000, 784)"
      ]
     },
     "execution_count": 5,
     "metadata": {},
     "output_type": "execute_result"
    }
   ],
   "source": [
    "dataset1_x.shape"
   ]
  },
  {
   "cell_type": "code",
   "execution_count": 6,
   "metadata": {},
   "outputs": [
    {
     "data": {
      "text/plain": [
       "array([5, 0, 4, 1, 9], dtype=uint8)"
      ]
     },
     "execution_count": 6,
     "metadata": {},
     "output_type": "execute_result"
    }
   ],
   "source": [
    "y_train[:3000][:5]"
   ]
  },
  {
   "cell_type": "code",
   "execution_count": 7,
   "metadata": {},
   "outputs": [
    {
     "data": {
      "text/plain": [
       "(array([[0., 0., 0., ..., 0., 0., 0.],\n",
       "        [0., 0., 0., ..., 0., 0., 0.],\n",
       "        [0., 0., 0., ..., 0., 0., 0.],\n",
       "        ...,\n",
       "        [0., 0., 0., ..., 0., 0., 0.],\n",
       "        [0., 0., 0., ..., 0., 0., 0.],\n",
       "        [0., 0., 0., ..., 0., 0., 0.]], dtype=float32), array([[0., 1., 0.],\n",
       "        [0., 0., 1.],\n",
       "        [0., 1., 0.],\n",
       "        ...,\n",
       "        [0., 1., 0.],\n",
       "        [0., 0., 1.],\n",
       "        [0., 1., 0.]], dtype=float32))"
      ]
     },
     "execution_count": 7,
     "metadata": {},
     "output_type": "execute_result"
    }
   ],
   "source": [
    "dataset1_x, dataset1_y"
   ]
  },
  {
   "cell_type": "code",
   "execution_count": null,
   "metadata": {},
   "outputs": [],
   "source": []
  }
 ],
 "metadata": {
  "kernelspec": {
   "display_name": "Python 3",
   "language": "python",
   "name": "python3"
  },
  "language_info": {
   "codemirror_mode": {
    "name": "ipython",
    "version": 3
   },
   "file_extension": ".py",
   "mimetype": "text/x-python",
   "name": "python",
   "nbconvert_exporter": "python",
   "pygments_lexer": "ipython3",
   "version": "3.7.4"
  }
 },
 "nbformat": 4,
 "nbformat_minor": 2
}
