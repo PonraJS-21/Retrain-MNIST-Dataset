{
 "cells": [
  {
   "cell_type": "code",
   "execution_count": 1,
   "metadata": {},
   "outputs": [
    {
     "name": "stderr",
     "output_type": "stream",
     "text": [
      "Using TensorFlow backend.\n"
     ]
    }
   ],
   "source": [
    "from keras.layers import Dense\n",
    "from keras.models import Sequential\n",
    "from keras.losses import MSE\n",
    "from keras.models import load_model"
   ]
  },
  {
   "cell_type": "code",
   "execution_count": 2,
   "metadata": {},
   "outputs": [
    {
     "name": "stdout",
     "output_type": "stream",
     "text": [
      "Previous, Inputs: [1, 2, 3]\n",
      "[[3.4340155]\n",
      " [5.419648 ]\n",
      " [7.387868 ]]\n",
      "Currunt, Inputs: [1, 2,, 3, 300]\n",
      "[[ 0.25280362]\n",
      " [ 0.38662606]\n",
      " [ 0.52044857]\n",
      " [40.265717  ]]\n"
     ]
    }
   ],
   "source": [
    "model = Sequential()\n",
    "\n",
    "model.add(Dense(50, activation='relu', input_shape=(1,)))\n",
    "model.add(Dense(1))\n",
    "model.compile(\n",
    "    loss=MSE,\n",
    "    optimizer='adam',\n",
    "    metrics=['mae']\n",
    ")\n",
    "xs = [1, 1, 1, 1, 2, 2, 2, 2]\n",
    "ys = [3, 3, 3, 3, 6, 6, 6, 6]\n",
    "\n",
    "for _ in range(300):\n",
    "    model.train_on_batch(xs, ys)\n",
    "model.save('for_number.h5')\n",
    "\n",
    "testXs = [1, 2, 3]\n",
    "result1 = model.predict(testXs)\n",
    "\n",
    "\n",
    "del model\n",
    "\n",
    "model = load_model('for_number.h5')\n",
    "\n",
    "xs1 = [300, 300, 300, 300]\n",
    "ys1 = [30, 30, 30, 30]\n",
    "\n",
    "for _ in range(100):\n",
    "    model.train_on_batch(xs1, ys1)\n",
    "\n",
    "testXs = [1, 2, 3, 300]\n",
    "result2 = model.predict(testXs)\n",
    "\n",
    "print('Previous, Inputs: [1, 2, 3]')\n",
    "print(result1)\n",
    "\n",
    "print('Currunt, Inputs: [1, 2,, 3, 300]')\n",
    "print(result2)"
   ]
  },
  {
   "cell_type": "code",
   "execution_count": null,
   "metadata": {},
   "outputs": [],
   "source": []
  }
 ],
 "metadata": {
  "kernelspec": {
   "display_name": "Python 3",
   "language": "python",
   "name": "python3"
  },
  "language_info": {
   "codemirror_mode": {
    "name": "ipython",
    "version": 3
   },
   "file_extension": ".py",
   "mimetype": "text/x-python",
   "name": "python",
   "nbconvert_exporter": "python",
   "pygments_lexer": "ipython3",
   "version": "3.7.4"
  }
 },
 "nbformat": 4,
 "nbformat_minor": 4
}
